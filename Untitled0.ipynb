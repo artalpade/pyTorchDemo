{
  "nbformat": 4,
  "nbformat_minor": 0,
  "metadata": {
    "colab": {
      "provenance": [],
      "mount_file_id": "1_SNasz_NmubQ8cZTBWaxOxIhhYac67H1",
      "authorship_tag": "ABX9TyOqBWZuMOJpXcEkrwvOIXEV",
      "include_colab_link": true
    },
    "kernelspec": {
      "name": "python3",
      "display_name": "Python 3"
    },
    "language_info": {
      "name": "python"
    },
    "widgets": {
      "application/vnd.jupyter.widget-state+json": {
        "972d7b18dc9741efa137567ff03342c8": {
          "model_module": "@jupyter-widgets/controls",
          "model_name": "FileUploadModel",
          "model_module_version": "1.5.0",
          "state": {
            "_counter": 0,
            "_dom_classes": [],
            "_model_module": "@jupyter-widgets/controls",
            "_model_module_version": "1.5.0",
            "_model_name": "FileUploadModel",
            "_view_count": null,
            "_view_module": "@jupyter-widgets/controls",
            "_view_module_version": "1.5.0",
            "_view_name": "FileUploadView",
            "accept": "",
            "button_style": "",
            "data": [],
            "description": "Upload",
            "description_tooltip": null,
            "disabled": false,
            "error": "",
            "icon": "upload",
            "layout": "IPY_MODEL_cb609ccfa5e2411d95ca5625507710c9",
            "metadata": [],
            "multiple": false,
            "style": "IPY_MODEL_7081783f20d54a4fa1ebb4019a57fccb"
          }
        },
        "cb609ccfa5e2411d95ca5625507710c9": {
          "model_module": "@jupyter-widgets/base",
          "model_name": "LayoutModel",
          "model_module_version": "1.2.0",
          "state": {
            "_model_module": "@jupyter-widgets/base",
            "_model_module_version": "1.2.0",
            "_model_name": "LayoutModel",
            "_view_count": null,
            "_view_module": "@jupyter-widgets/base",
            "_view_module_version": "1.2.0",
            "_view_name": "LayoutView",
            "align_content": null,
            "align_items": null,
            "align_self": null,
            "border": null,
            "bottom": null,
            "display": null,
            "flex": null,
            "flex_flow": null,
            "grid_area": null,
            "grid_auto_columns": null,
            "grid_auto_flow": null,
            "grid_auto_rows": null,
            "grid_column": null,
            "grid_gap": null,
            "grid_row": null,
            "grid_template_areas": null,
            "grid_template_columns": null,
            "grid_template_rows": null,
            "height": null,
            "justify_content": null,
            "justify_items": null,
            "left": null,
            "margin": null,
            "max_height": null,
            "max_width": null,
            "min_height": null,
            "min_width": null,
            "object_fit": null,
            "object_position": null,
            "order": null,
            "overflow": null,
            "overflow_x": null,
            "overflow_y": null,
            "padding": null,
            "right": null,
            "top": null,
            "visibility": null,
            "width": null
          }
        },
        "7081783f20d54a4fa1ebb4019a57fccb": {
          "model_module": "@jupyter-widgets/controls",
          "model_name": "ButtonStyleModel",
          "model_module_version": "1.5.0",
          "state": {
            "_model_module": "@jupyter-widgets/controls",
            "_model_module_version": "1.5.0",
            "_model_name": "ButtonStyleModel",
            "_view_count": null,
            "_view_module": "@jupyter-widgets/base",
            "_view_module_version": "1.2.0",
            "_view_name": "StyleView",
            "button_color": null,
            "font_weight": ""
          }
        },
        "8798de55872c4bfba9b542d59dd865d9": {
          "model_module": "@jupyter-widgets/output",
          "model_name": "OutputModel",
          "model_module_version": "1.0.0",
          "state": {
            "_dom_classes": [],
            "_model_module": "@jupyter-widgets/output",
            "_model_module_version": "1.0.0",
            "_model_name": "OutputModel",
            "_view_count": null,
            "_view_module": "@jupyter-widgets/output",
            "_view_module_version": "1.0.0",
            "_view_name": "OutputView",
            "layout": "IPY_MODEL_f35abe764093448086255a43a92a67dc",
            "msg_id": "",
            "outputs": [
              {
                "output_type": "display_data",
                "data": {
                  "text/plain": "<PIL.Image.Image image mode=RGB size=128x87>",
                  "image/png": "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\n"
                },
                "metadata": {}
              }
            ]
          }
        },
        "f35abe764093448086255a43a92a67dc": {
          "model_module": "@jupyter-widgets/base",
          "model_name": "LayoutModel",
          "model_module_version": "1.2.0",
          "state": {
            "_model_module": "@jupyter-widgets/base",
            "_model_module_version": "1.2.0",
            "_model_name": "LayoutModel",
            "_view_count": null,
            "_view_module": "@jupyter-widgets/base",
            "_view_module_version": "1.2.0",
            "_view_name": "LayoutView",
            "align_content": null,
            "align_items": null,
            "align_self": null,
            "border": null,
            "bottom": null,
            "display": null,
            "flex": null,
            "flex_flow": null,
            "grid_area": null,
            "grid_auto_columns": null,
            "grid_auto_flow": null,
            "grid_auto_rows": null,
            "grid_column": null,
            "grid_gap": null,
            "grid_row": null,
            "grid_template_areas": null,
            "grid_template_columns": null,
            "grid_template_rows": null,
            "height": null,
            "justify_content": null,
            "justify_items": null,
            "left": null,
            "margin": null,
            "max_height": null,
            "max_width": null,
            "min_height": null,
            "min_width": null,
            "object_fit": null,
            "object_position": null,
            "order": null,
            "overflow": null,
            "overflow_x": null,
            "overflow_y": null,
            "padding": null,
            "right": null,
            "top": null,
            "visibility": null,
            "width": null
          }
        }
      }
    }
  },
  "cells": [
    {
      "cell_type": "markdown",
      "metadata": {
        "id": "view-in-github",
        "colab_type": "text"
      },
      "source": [
        "<a href=\"https://colab.research.google.com/github/artalpade/pyTorchDemo/blob/master/Untitled0.ipynb\" target=\"_parent\"><img src=\"https://colab.research.google.com/assets/colab-badge.svg\" alt=\"Open In Colab\"/></a>"
      ]
    },
    {
      "cell_type": "code",
      "execution_count": 13,
      "metadata": {
        "colab": {
          "base_uri": "https://localhost:8080/"
        },
        "id": "CGhlX18Jt1bc",
        "outputId": "ee13457a-f068-435d-e22f-20716097317c"
      },
      "outputs": [
        {
          "output_type": "stream",
          "name": "stdout",
          "text": [
            "Looking in indexes: https://pypi.org/simple, https://us-python.pkg.dev/colab-wheels/public/simple/\n",
            "Requirement already satisfied: voila in /usr/local/lib/python3.10/dist-packages (0.4.0)\n",
            "Requirement already satisfied: jupyter-client<=7.4.1,>=6.1.3 in /usr/local/lib/python3.10/dist-packages (from voila) (6.1.12)\n",
            "Requirement already satisfied: jupyter-core>=4.11.0 in /usr/local/lib/python3.10/dist-packages (from voila) (5.3.1)\n",
            "Requirement already satisfied: jupyter-server<2.0.0,>=1.18 in /usr/local/lib/python3.10/dist-packages (from voila) (1.24.0)\n",
            "Requirement already satisfied: jupyterlab-server<3,>=2.3.0 in /usr/local/lib/python3.10/dist-packages (from voila) (2.23.0)\n",
            "Requirement already satisfied: nbclient<0.8,>=0.4.0 in /usr/local/lib/python3.10/dist-packages (from voila) (0.7.4)\n",
            "Requirement already satisfied: nbconvert<8,>=6.4.5 in /usr/local/lib/python3.10/dist-packages (from voila) (6.5.4)\n",
            "Requirement already satisfied: traitlets<6,>=5.0.3 in /usr/local/lib/python3.10/dist-packages (from voila) (5.7.1)\n",
            "Requirement already satisfied: websockets>=9.0 in /usr/local/lib/python3.10/dist-packages (from voila) (11.0.3)\n",
            "Requirement already satisfied: pyzmq>=13 in /usr/local/lib/python3.10/dist-packages (from jupyter-client<=7.4.1,>=6.1.3->voila) (23.2.1)\n",
            "Requirement already satisfied: python-dateutil>=2.1 in /usr/local/lib/python3.10/dist-packages (from jupyter-client<=7.4.1,>=6.1.3->voila) (2.8.2)\n",
            "Requirement already satisfied: tornado>=4.1 in /usr/local/lib/python3.10/dist-packages (from jupyter-client<=7.4.1,>=6.1.3->voila) (6.3.1)\n",
            "Requirement already satisfied: platformdirs>=2.5 in /usr/local/lib/python3.10/dist-packages (from jupyter-core>=4.11.0->voila) (3.7.0)\n",
            "Requirement already satisfied: anyio<4,>=3.1.0 in /usr/local/lib/python3.10/dist-packages (from jupyter-server<2.0.0,>=1.18->voila) (3.7.0)\n",
            "Requirement already satisfied: argon2-cffi in /usr/local/lib/python3.10/dist-packages (from jupyter-server<2.0.0,>=1.18->voila) (21.3.0)\n",
            "Requirement already satisfied: jinja2 in /usr/local/lib/python3.10/dist-packages (from jupyter-server<2.0.0,>=1.18->voila) (3.1.2)\n",
            "Requirement already satisfied: nbformat>=5.2.0 in /usr/local/lib/python3.10/dist-packages (from jupyter-server<2.0.0,>=1.18->voila) (5.9.0)\n",
            "Requirement already satisfied: packaging in /usr/local/lib/python3.10/dist-packages (from jupyter-server<2.0.0,>=1.18->voila) (23.1)\n",
            "Requirement already satisfied: prometheus-client in /usr/local/lib/python3.10/dist-packages (from jupyter-server<2.0.0,>=1.18->voila) (0.17.0)\n",
            "Requirement already satisfied: Send2Trash in /usr/local/lib/python3.10/dist-packages (from jupyter-server<2.0.0,>=1.18->voila) (1.8.2)\n",
            "Requirement already satisfied: terminado>=0.8.3 in /usr/local/lib/python3.10/dist-packages (from jupyter-server<2.0.0,>=1.18->voila) (0.17.1)\n",
            "Requirement already satisfied: websocket-client in /usr/local/lib/python3.10/dist-packages (from jupyter-server<2.0.0,>=1.18->voila) (1.6.0)\n",
            "Requirement already satisfied: babel>=2.10 in /usr/local/lib/python3.10/dist-packages (from jupyterlab-server<3,>=2.3.0->voila) (2.12.1)\n",
            "Requirement already satisfied: json5>=0.9.0 in /usr/local/lib/python3.10/dist-packages (from jupyterlab-server<3,>=2.3.0->voila) (0.9.14)\n",
            "Requirement already satisfied: jsonschema>=4.17.3 in /usr/local/lib/python3.10/dist-packages (from jupyterlab-server<3,>=2.3.0->voila) (4.17.3)\n",
            "Requirement already satisfied: requests>=2.28 in /usr/local/lib/python3.10/dist-packages (from jupyterlab-server<3,>=2.3.0->voila) (2.31.0)\n",
            "Requirement already satisfied: lxml in /usr/local/lib/python3.10/dist-packages (from nbconvert<8,>=6.4.5->voila) (4.9.2)\n",
            "Requirement already satisfied: beautifulsoup4 in /usr/local/lib/python3.10/dist-packages (from nbconvert<8,>=6.4.5->voila) (4.11.2)\n",
            "Requirement already satisfied: bleach in /usr/local/lib/python3.10/dist-packages (from nbconvert<8,>=6.4.5->voila) (6.0.0)\n",
            "Requirement already satisfied: defusedxml in /usr/local/lib/python3.10/dist-packages (from nbconvert<8,>=6.4.5->voila) (0.7.1)\n",
            "Requirement already satisfied: entrypoints>=0.2.2 in /usr/local/lib/python3.10/dist-packages (from nbconvert<8,>=6.4.5->voila) (0.4)\n",
            "Requirement already satisfied: jupyterlab-pygments in /usr/local/lib/python3.10/dist-packages (from nbconvert<8,>=6.4.5->voila) (0.2.2)\n",
            "Requirement already satisfied: MarkupSafe>=2.0 in /usr/local/lib/python3.10/dist-packages (from nbconvert<8,>=6.4.5->voila) (2.1.3)\n",
            "Requirement already satisfied: mistune<2,>=0.8.1 in /usr/local/lib/python3.10/dist-packages (from nbconvert<8,>=6.4.5->voila) (0.8.4)\n",
            "Requirement already satisfied: pandocfilters>=1.4.1 in /usr/local/lib/python3.10/dist-packages (from nbconvert<8,>=6.4.5->voila) (1.5.0)\n",
            "Requirement already satisfied: pygments>=2.4.1 in /usr/local/lib/python3.10/dist-packages (from nbconvert<8,>=6.4.5->voila) (2.14.0)\n",
            "Requirement already satisfied: tinycss2 in /usr/local/lib/python3.10/dist-packages (from nbconvert<8,>=6.4.5->voila) (1.2.1)\n",
            "Requirement already satisfied: idna>=2.8 in /usr/local/lib/python3.10/dist-packages (from anyio<4,>=3.1.0->jupyter-server<2.0.0,>=1.18->voila) (3.4)\n",
            "Requirement already satisfied: sniffio>=1.1 in /usr/local/lib/python3.10/dist-packages (from anyio<4,>=3.1.0->jupyter-server<2.0.0,>=1.18->voila) (1.3.0)\n",
            "Requirement already satisfied: exceptiongroup in /usr/local/lib/python3.10/dist-packages (from anyio<4,>=3.1.0->jupyter-server<2.0.0,>=1.18->voila) (1.1.1)\n",
            "Requirement already satisfied: attrs>=17.4.0 in /usr/local/lib/python3.10/dist-packages (from jsonschema>=4.17.3->jupyterlab-server<3,>=2.3.0->voila) (23.1.0)\n",
            "Requirement already satisfied: pyrsistent!=0.17.0,!=0.17.1,!=0.17.2,>=0.14.0 in /usr/local/lib/python3.10/dist-packages (from jsonschema>=4.17.3->jupyterlab-server<3,>=2.3.0->voila) (0.19.3)\n",
            "Requirement already satisfied: fastjsonschema in /usr/local/lib/python3.10/dist-packages (from nbformat>=5.2.0->jupyter-server<2.0.0,>=1.18->voila) (2.17.1)\n",
            "Requirement already satisfied: six>=1.5 in /usr/local/lib/python3.10/dist-packages (from python-dateutil>=2.1->jupyter-client<=7.4.1,>=6.1.3->voila) (1.16.0)\n",
            "Requirement already satisfied: charset-normalizer<4,>=2 in /usr/local/lib/python3.10/dist-packages (from requests>=2.28->jupyterlab-server<3,>=2.3.0->voila) (2.0.12)\n",
            "Requirement already satisfied: urllib3<3,>=1.21.1 in /usr/local/lib/python3.10/dist-packages (from requests>=2.28->jupyterlab-server<3,>=2.3.0->voila) (1.26.16)\n",
            "Requirement already satisfied: certifi>=2017.4.17 in /usr/local/lib/python3.10/dist-packages (from requests>=2.28->jupyterlab-server<3,>=2.3.0->voila) (2023.5.7)\n",
            "Requirement already satisfied: ptyprocess in /usr/local/lib/python3.10/dist-packages (from terminado>=0.8.3->jupyter-server<2.0.0,>=1.18->voila) (0.7.0)\n",
            "Requirement already satisfied: argon2-cffi-bindings in /usr/local/lib/python3.10/dist-packages (from argon2-cffi->jupyter-server<2.0.0,>=1.18->voila) (21.2.0)\n",
            "Requirement already satisfied: soupsieve>1.2 in /usr/local/lib/python3.10/dist-packages (from beautifulsoup4->nbconvert<8,>=6.4.5->voila) (2.4.1)\n",
            "Requirement already satisfied: webencodings in /usr/local/lib/python3.10/dist-packages (from bleach->nbconvert<8,>=6.4.5->voila) (0.5.1)\n",
            "Requirement already satisfied: cffi>=1.0.1 in /usr/local/lib/python3.10/dist-packages (from argon2-cffi-bindings->argon2-cffi->jupyter-server<2.0.0,>=1.18->voila) (1.15.1)\n",
            "Requirement already satisfied: pycparser in /usr/local/lib/python3.10/dist-packages (from cffi>=1.0.1->argon2-cffi-bindings->argon2-cffi->jupyter-server<2.0.0,>=1.18->voila) (2.21)\n",
            "Enabling: voila\n",
            "- Writing config: /usr/etc/jupyter\n",
            "    - Validating...\n",
            "      voila 0.4.0 \u001b[32mOK\u001b[0m\n",
            "Looking in indexes: https://pypi.org/simple, https://us-python.pkg.dev/colab-wheels/public/simple/\n",
            "Requirement already satisfied: path in /usr/local/lib/python3.10/dist-packages (16.6.0)\n"
          ]
        }
      ],
      "source": [
        "!pip install voila\n",
        "!jupyter serverextension enable --sys-prefix voila\n",
        "!pip install path\n",
        "! [ -e /content ] && pip install -Uqq fastbook\n",
        "import fastbook\n",
        "from fastbook import *\n",
        "from fastai.vision.widgets import *"
      ]
    },
    {
      "cell_type": "code",
      "source": [
        "from google.colab import drive\n",
        "drive.mount('/content/drive')"
      ],
      "metadata": {
        "colab": {
          "base_uri": "https://localhost:8080/"
        },
        "id": "AdHsqmgEUOpX",
        "outputId": "2c3eb376-dac7-4530-8817-853bdf4c6f24"
      },
      "execution_count": 25,
      "outputs": [
        {
          "output_type": "stream",
          "name": "stdout",
          "text": [
            "Mounted at /content/drive\n"
          ]
        }
      ]
    },
    {
      "cell_type": "code",
      "source": [
        "path = Path('/content/drive/MyDrive/ColabNotebooks/ColabData')\n",
        "# path.ls()\n",
        "learn_inf = load_learner(path/'export.pkl')\n",
        "learn_inf.dls.vocab"
      ],
      "metadata": {
        "colab": {
          "base_uri": "https://localhost:8080/"
        },
        "id": "eA37bIbDUwpN",
        "outputId": "7f7a20da-b72c-4429-948c-ee636d4cb8c3"
      },
      "execution_count": 27,
      "outputs": [
        {
          "output_type": "execute_result",
          "data": {
            "text/plain": [
              "['black', 'grizzly', 'teddy']"
            ]
          },
          "metadata": {},
          "execution_count": 27
        }
      ]
    },
    {
      "cell_type": "code",
      "source": [
        "btn_upload = widgets.FileUpload()\n",
        "btn_upload"
      ],
      "metadata": {
        "colab": {
          "base_uri": "https://localhost:8080/",
          "height": 49,
          "referenced_widgets": [
            "972d7b18dc9741efa137567ff03342c8",
            "cb609ccfa5e2411d95ca5625507710c9",
            "7081783f20d54a4fa1ebb4019a57fccb"
          ]
        },
        "id": "--2a_rZNKwgr",
        "outputId": "2b39a249-406a-4851-81a3-866d5b334fbe"
      },
      "execution_count": 14,
      "outputs": [
        {
          "output_type": "display_data",
          "data": {
            "text/plain": [
              "FileUpload(value={}, description='Upload')"
            ],
            "application/vnd.jupyter.widget-view+json": {
              "version_major": 2,
              "version_minor": 0,
              "model_id": "972d7b18dc9741efa137567ff03342c8"
            }
          },
          "metadata": {}
        }
      ]
    },
    {
      "cell_type": "code",
      "source": [
        "img = PILImage.create(btn_upload.data[-1])"
      ],
      "metadata": {
        "colab": {
          "base_uri": "https://localhost:8080/",
          "height": 166
        },
        "id": "IcjTw6TmK1kK",
        "outputId": "af5490c6-b030-463f-a088-c21561c9991b"
      },
      "execution_count": 10,
      "outputs": [
        {
          "output_type": "error",
          "ename": "NameError",
          "evalue": "ignored",
          "traceback": [
            "\u001b[0;31m---------------------------------------------------------------------------\u001b[0m",
            "\u001b[0;31mNameError\u001b[0m                                 Traceback (most recent call last)",
            "\u001b[0;32m<ipython-input-10-82db33b3197c>\u001b[0m in \u001b[0;36m<cell line: 1>\u001b[0;34m()\u001b[0m\n\u001b[0;32m----> 1\u001b[0;31m \u001b[0mimg\u001b[0m \u001b[0;34m=\u001b[0m \u001b[0mPILImage\u001b[0m\u001b[0;34m.\u001b[0m\u001b[0mcreate\u001b[0m\u001b[0;34m(\u001b[0m\u001b[0mbtn_upload\u001b[0m\u001b[0;34m.\u001b[0m\u001b[0mdata\u001b[0m\u001b[0;34m[\u001b[0m\u001b[0;34m-\u001b[0m\u001b[0;36m1\u001b[0m\u001b[0;34m]\u001b[0m\u001b[0;34m)\u001b[0m\u001b[0;34m\u001b[0m\u001b[0;34m\u001b[0m\u001b[0m\n\u001b[0m",
            "\u001b[0;31mNameError\u001b[0m: name 'PILImage' is not defined"
          ]
        }
      ]
    },
    {
      "cell_type": "code",
      "source": [
        "#hide_output\n",
        "out_pl = widgets.Output()\n",
        "out_pl.clear_output()\n",
        "with out_pl: display(img.to_thumb(128,128))\n",
        "out_pl"
      ],
      "metadata": {
        "colab": {
          "base_uri": "https://localhost:8080/",
          "height": 104,
          "referenced_widgets": [
            "8798de55872c4bfba9b542d59dd865d9",
            "f35abe764093448086255a43a92a67dc"
          ]
        },
        "id": "23iIWOuZK6is",
        "outputId": "d29c8a70-494d-42cf-8518-1a8f64fc4475"
      },
      "execution_count": 13,
      "outputs": [
        {
          "output_type": "display_data",
          "data": {
            "text/plain": [
              "Output()"
            ],
            "application/vnd.jupyter.widget-view+json": {
              "version_major": 2,
              "version_minor": 0,
              "model_id": "8798de55872c4bfba9b542d59dd865d9"
            }
          },
          "metadata": {}
        }
      ]
    },
    {
      "cell_type": "code",
      "source": [
        "pred,pred_idx,probs = learn_inf.predict(img)"
      ],
      "metadata": {
        "colab": {
          "base_uri": "https://localhost:8080/",
          "height": 166
        },
        "id": "lztZ7zZKK-Y9",
        "outputId": "5f608f3a-5d0c-4815-e4ee-b4361ee173cb"
      },
      "execution_count": 28,
      "outputs": [
        {
          "output_type": "error",
          "ename": "NameError",
          "evalue": "ignored",
          "traceback": [
            "\u001b[0;31m---------------------------------------------------------------------------\u001b[0m",
            "\u001b[0;31mNameError\u001b[0m                                 Traceback (most recent call last)",
            "\u001b[0;32m<ipython-input-28-9a18687b977c>\u001b[0m in \u001b[0;36m<cell line: 1>\u001b[0;34m()\u001b[0m\n\u001b[0;32m----> 1\u001b[0;31m \u001b[0mpred\u001b[0m\u001b[0;34m,\u001b[0m\u001b[0mpred_idx\u001b[0m\u001b[0;34m,\u001b[0m\u001b[0mprobs\u001b[0m \u001b[0;34m=\u001b[0m \u001b[0mlearn_inf\u001b[0m\u001b[0;34m.\u001b[0m\u001b[0mpredict\u001b[0m\u001b[0;34m(\u001b[0m\u001b[0mimg\u001b[0m\u001b[0;34m)\u001b[0m\u001b[0;34m\u001b[0m\u001b[0;34m\u001b[0m\u001b[0m\n\u001b[0m",
            "\u001b[0;31mNameError\u001b[0m: name 'img' is not defined"
          ]
        }
      ]
    },
    {
      "cell_type": "code",
      "source": [
        "#hide_output\n",
        "lbl_pred = widgets.Label()\n",
        "lbl_pred.value = f'Prediction: {pred}; Probability: {probs[pred_idx]:.04f}'\n",
        "lbl_pred"
      ],
      "metadata": {
        "id": "grhi0rAfOMwz"
      },
      "execution_count": null,
      "outputs": []
    },
    {
      "cell_type": "code",
      "source": [
        "#hide_output\n",
        "btn_run = widgets.Button(description='Classify')\n",
        "btn_run"
      ],
      "metadata": {
        "id": "pKeU92l8OSb0"
      },
      "execution_count": null,
      "outputs": []
    },
    {
      "cell_type": "code",
      "source": [
        "def on_click_classify(change):\n",
        "    img = PILImage.create(btn_upload.data[-1])\n",
        "    out_pl.clear_output()\n",
        "    with out_pl: display(img.to_thumb(128,128))\n",
        "    pred,pred_idx,probs = learn_inf.predict(img)\n",
        "    lbl_pred.value = f'Prediction: {pred}; Probability: {probs[pred_idx]:.04f}'\n",
        "\n",
        "btn_run.on_click(on_click_classify)"
      ],
      "metadata": {
        "id": "d7U9eiugTFzh"
      },
      "execution_count": null,
      "outputs": []
    },
    {
      "cell_type": "code",
      "source": [
        "#hide\n",
        "#Putting back btn_upload to a widget for next cell\n",
        "btn_upload = widgets.FileUpload()"
      ],
      "metadata": {
        "id": "hMkNQjmhTGZH"
      },
      "execution_count": null,
      "outputs": []
    },
    {
      "cell_type": "code",
      "source": [
        "#hide_output\n",
        "VBox([widgets.Label('Select your bear!'),\n",
        "      btn_upload, btn_run, out_pl, lbl_pred])"
      ],
      "metadata": {
        "id": "sa4x46tnTIbT"
      },
      "execution_count": null,
      "outputs": []
    }
  ]
}